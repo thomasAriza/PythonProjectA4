{
 "cells": [
  {
   "cell_type": "code",
   "execution_count": 2,
   "metadata": {},
   "outputs": [],
   "source": [
    "import pandas as pd\n",
    "import numpy as np\n",
    "import seaborn as sns\n",
    "import matplotlib.pyplot as plt"
   ]
  },
  {
   "cell_type": "code",
   "execution_count": 3,
   "metadata": {},
   "outputs": [],
   "source": [
    "from sklearn import datasets\n",
    "from sklearn.model_selection import train_test_split\n",
    "import sklearn as skl\n",
    "from sklearn.preprocessing import MinMaxScaler\n",
    "from sklearn.model_selection import cross_val_score\n",
    "from sklearn import svm\n",
    "from sklearn.model_selection import GridSearchCV\n",
    "from sklearn.linear_model import LinearRegression\n",
    "from sklearn.tree import DecisionTreeRegressor\n",
    "from sklearn.tree import DecisionTreeClassifier\n",
    "from sklearn.ensemble import RandomForestClassifier\n",
    "from sklearn.neighbors import KNeighborsClassifier"
   ]
  },
  {
   "cell_type": "code",
   "execution_count": 4,
   "metadata": {},
   "outputs": [
    {
     "ename": "FileNotFoundError",
     "evalue": "[Errno 2] No such file or directory: 'ObesityDataSet_raw_and_data_sinthetic.csv'",
     "output_type": "error",
     "traceback": [
      "\u001b[1;31m---------------------------------------------------------------------------\u001b[0m",
      "\u001b[1;31mFileNotFoundError\u001b[0m                         Traceback (most recent call last)",
      "\u001b[1;32m<ipython-input-4-7faa72a77ff1>\u001b[0m in \u001b[0;36m<module>\u001b[1;34m\u001b[0m\n\u001b[1;32m----> 1\u001b[1;33m \u001b[0mdf\u001b[0m\u001b[1;33m=\u001b[0m\u001b[0mpd\u001b[0m\u001b[1;33m.\u001b[0m\u001b[0mread_csv\u001b[0m\u001b[1;33m(\u001b[0m\u001b[1;34m\"ObesityDataSet_raw_and_data_sinthetic.csv\"\u001b[0m\u001b[1;33m)\u001b[0m\u001b[1;33m\u001b[0m\u001b[1;33m\u001b[0m\u001b[0m\n\u001b[0m",
      "\u001b[1;32m~\\Anaconda3\\lib\\site-packages\\pandas\\io\\parsers.py\u001b[0m in \u001b[0;36mread_csv\u001b[1;34m(filepath_or_buffer, sep, delimiter, header, names, index_col, usecols, squeeze, prefix, mangle_dupe_cols, dtype, engine, converters, true_values, false_values, skipinitialspace, skiprows, skipfooter, nrows, na_values, keep_default_na, na_filter, verbose, skip_blank_lines, parse_dates, infer_datetime_format, keep_date_col, date_parser, dayfirst, cache_dates, iterator, chunksize, compression, thousands, decimal, lineterminator, quotechar, quoting, doublequote, escapechar, comment, encoding, dialect, error_bad_lines, warn_bad_lines, delim_whitespace, low_memory, memory_map, float_precision)\u001b[0m\n\u001b[0;32m    684\u001b[0m     )\n\u001b[0;32m    685\u001b[0m \u001b[1;33m\u001b[0m\u001b[0m\n\u001b[1;32m--> 686\u001b[1;33m     \u001b[1;32mreturn\u001b[0m \u001b[0m_read\u001b[0m\u001b[1;33m(\u001b[0m\u001b[0mfilepath_or_buffer\u001b[0m\u001b[1;33m,\u001b[0m \u001b[0mkwds\u001b[0m\u001b[1;33m)\u001b[0m\u001b[1;33m\u001b[0m\u001b[1;33m\u001b[0m\u001b[0m\n\u001b[0m\u001b[0;32m    687\u001b[0m \u001b[1;33m\u001b[0m\u001b[0m\n\u001b[0;32m    688\u001b[0m \u001b[1;33m\u001b[0m\u001b[0m\n",
      "\u001b[1;32m~\\Anaconda3\\lib\\site-packages\\pandas\\io\\parsers.py\u001b[0m in \u001b[0;36m_read\u001b[1;34m(filepath_or_buffer, kwds)\u001b[0m\n\u001b[0;32m    450\u001b[0m \u001b[1;33m\u001b[0m\u001b[0m\n\u001b[0;32m    451\u001b[0m     \u001b[1;31m# Create the parser.\u001b[0m\u001b[1;33m\u001b[0m\u001b[1;33m\u001b[0m\u001b[1;33m\u001b[0m\u001b[0m\n\u001b[1;32m--> 452\u001b[1;33m     \u001b[0mparser\u001b[0m \u001b[1;33m=\u001b[0m \u001b[0mTextFileReader\u001b[0m\u001b[1;33m(\u001b[0m\u001b[0mfp_or_buf\u001b[0m\u001b[1;33m,\u001b[0m \u001b[1;33m**\u001b[0m\u001b[0mkwds\u001b[0m\u001b[1;33m)\u001b[0m\u001b[1;33m\u001b[0m\u001b[1;33m\u001b[0m\u001b[0m\n\u001b[0m\u001b[0;32m    453\u001b[0m \u001b[1;33m\u001b[0m\u001b[0m\n\u001b[0;32m    454\u001b[0m     \u001b[1;32mif\u001b[0m \u001b[0mchunksize\u001b[0m \u001b[1;32mor\u001b[0m \u001b[0miterator\u001b[0m\u001b[1;33m:\u001b[0m\u001b[1;33m\u001b[0m\u001b[1;33m\u001b[0m\u001b[0m\n",
      "\u001b[1;32m~\\Anaconda3\\lib\\site-packages\\pandas\\io\\parsers.py\u001b[0m in \u001b[0;36m__init__\u001b[1;34m(self, f, engine, **kwds)\u001b[0m\n\u001b[0;32m    944\u001b[0m             \u001b[0mself\u001b[0m\u001b[1;33m.\u001b[0m\u001b[0moptions\u001b[0m\u001b[1;33m[\u001b[0m\u001b[1;34m\"has_index_names\"\u001b[0m\u001b[1;33m]\u001b[0m \u001b[1;33m=\u001b[0m \u001b[0mkwds\u001b[0m\u001b[1;33m[\u001b[0m\u001b[1;34m\"has_index_names\"\u001b[0m\u001b[1;33m]\u001b[0m\u001b[1;33m\u001b[0m\u001b[1;33m\u001b[0m\u001b[0m\n\u001b[0;32m    945\u001b[0m \u001b[1;33m\u001b[0m\u001b[0m\n\u001b[1;32m--> 946\u001b[1;33m         \u001b[0mself\u001b[0m\u001b[1;33m.\u001b[0m\u001b[0m_make_engine\u001b[0m\u001b[1;33m(\u001b[0m\u001b[0mself\u001b[0m\u001b[1;33m.\u001b[0m\u001b[0mengine\u001b[0m\u001b[1;33m)\u001b[0m\u001b[1;33m\u001b[0m\u001b[1;33m\u001b[0m\u001b[0m\n\u001b[0m\u001b[0;32m    947\u001b[0m \u001b[1;33m\u001b[0m\u001b[0m\n\u001b[0;32m    948\u001b[0m     \u001b[1;32mdef\u001b[0m \u001b[0mclose\u001b[0m\u001b[1;33m(\u001b[0m\u001b[0mself\u001b[0m\u001b[1;33m)\u001b[0m\u001b[1;33m:\u001b[0m\u001b[1;33m\u001b[0m\u001b[1;33m\u001b[0m\u001b[0m\n",
      "\u001b[1;32m~\\Anaconda3\\lib\\site-packages\\pandas\\io\\parsers.py\u001b[0m in \u001b[0;36m_make_engine\u001b[1;34m(self, engine)\u001b[0m\n\u001b[0;32m   1176\u001b[0m     \u001b[1;32mdef\u001b[0m \u001b[0m_make_engine\u001b[0m\u001b[1;33m(\u001b[0m\u001b[0mself\u001b[0m\u001b[1;33m,\u001b[0m \u001b[0mengine\u001b[0m\u001b[1;33m=\u001b[0m\u001b[1;34m\"c\"\u001b[0m\u001b[1;33m)\u001b[0m\u001b[1;33m:\u001b[0m\u001b[1;33m\u001b[0m\u001b[1;33m\u001b[0m\u001b[0m\n\u001b[0;32m   1177\u001b[0m         \u001b[1;32mif\u001b[0m \u001b[0mengine\u001b[0m \u001b[1;33m==\u001b[0m \u001b[1;34m\"c\"\u001b[0m\u001b[1;33m:\u001b[0m\u001b[1;33m\u001b[0m\u001b[1;33m\u001b[0m\u001b[0m\n\u001b[1;32m-> 1178\u001b[1;33m             \u001b[0mself\u001b[0m\u001b[1;33m.\u001b[0m\u001b[0m_engine\u001b[0m \u001b[1;33m=\u001b[0m \u001b[0mCParserWrapper\u001b[0m\u001b[1;33m(\u001b[0m\u001b[0mself\u001b[0m\u001b[1;33m.\u001b[0m\u001b[0mf\u001b[0m\u001b[1;33m,\u001b[0m \u001b[1;33m**\u001b[0m\u001b[0mself\u001b[0m\u001b[1;33m.\u001b[0m\u001b[0moptions\u001b[0m\u001b[1;33m)\u001b[0m\u001b[1;33m\u001b[0m\u001b[1;33m\u001b[0m\u001b[0m\n\u001b[0m\u001b[0;32m   1179\u001b[0m         \u001b[1;32melse\u001b[0m\u001b[1;33m:\u001b[0m\u001b[1;33m\u001b[0m\u001b[1;33m\u001b[0m\u001b[0m\n\u001b[0;32m   1180\u001b[0m             \u001b[1;32mif\u001b[0m \u001b[0mengine\u001b[0m \u001b[1;33m==\u001b[0m \u001b[1;34m\"python\"\u001b[0m\u001b[1;33m:\u001b[0m\u001b[1;33m\u001b[0m\u001b[1;33m\u001b[0m\u001b[0m\n",
      "\u001b[1;32m~\\Anaconda3\\lib\\site-packages\\pandas\\io\\parsers.py\u001b[0m in \u001b[0;36m__init__\u001b[1;34m(self, src, **kwds)\u001b[0m\n\u001b[0;32m   2006\u001b[0m         \u001b[0mkwds\u001b[0m\u001b[1;33m[\u001b[0m\u001b[1;34m\"usecols\"\u001b[0m\u001b[1;33m]\u001b[0m \u001b[1;33m=\u001b[0m \u001b[0mself\u001b[0m\u001b[1;33m.\u001b[0m\u001b[0musecols\u001b[0m\u001b[1;33m\u001b[0m\u001b[1;33m\u001b[0m\u001b[0m\n\u001b[0;32m   2007\u001b[0m \u001b[1;33m\u001b[0m\u001b[0m\n\u001b[1;32m-> 2008\u001b[1;33m         \u001b[0mself\u001b[0m\u001b[1;33m.\u001b[0m\u001b[0m_reader\u001b[0m \u001b[1;33m=\u001b[0m \u001b[0mparsers\u001b[0m\u001b[1;33m.\u001b[0m\u001b[0mTextReader\u001b[0m\u001b[1;33m(\u001b[0m\u001b[0msrc\u001b[0m\u001b[1;33m,\u001b[0m \u001b[1;33m**\u001b[0m\u001b[0mkwds\u001b[0m\u001b[1;33m)\u001b[0m\u001b[1;33m\u001b[0m\u001b[1;33m\u001b[0m\u001b[0m\n\u001b[0m\u001b[0;32m   2009\u001b[0m         \u001b[0mself\u001b[0m\u001b[1;33m.\u001b[0m\u001b[0munnamed_cols\u001b[0m \u001b[1;33m=\u001b[0m \u001b[0mself\u001b[0m\u001b[1;33m.\u001b[0m\u001b[0m_reader\u001b[0m\u001b[1;33m.\u001b[0m\u001b[0munnamed_cols\u001b[0m\u001b[1;33m\u001b[0m\u001b[1;33m\u001b[0m\u001b[0m\n\u001b[0;32m   2010\u001b[0m \u001b[1;33m\u001b[0m\u001b[0m\n",
      "\u001b[1;32mpandas\\_libs\\parsers.pyx\u001b[0m in \u001b[0;36mpandas._libs.parsers.TextReader.__cinit__\u001b[1;34m()\u001b[0m\n",
      "\u001b[1;32mpandas\\_libs\\parsers.pyx\u001b[0m in \u001b[0;36mpandas._libs.parsers.TextReader._setup_parser_source\u001b[1;34m()\u001b[0m\n",
      "\u001b[1;31mFileNotFoundError\u001b[0m: [Errno 2] No such file or directory: 'ObesityDataSet_raw_and_data_sinthetic.csv'"
     ]
    }
   ],
   "source": [
    "df=pd.read_csv(\"ObesityDataSet_raw_and_data_sinthetic.csv\")"
   ]
  },
  {
   "cell_type": "code",
   "execution_count": null,
   "metadata": {},
   "outputs": [],
   "source": [
    "df"
   ]
  },
  {
   "cell_type": "code",
   "execution_count": 5,
   "metadata": {},
   "outputs": [
    {
     "data": {
      "text/plain": [
       "array(['Normal_Weight', 'Overweight_Level_I', 'Overweight_Level_II',\n",
       "       'Obesity_Type_I', 'Insufficient_Weight', 'Obesity_Type_II',\n",
       "       'Obesity_Type_III'], dtype=object)"
      ]
     },
     "execution_count": 5,
     "metadata": {},
     "output_type": "execute_result"
    }
   ],
   "source": [
    "df[\"NObeyesdad\"].unique()"
   ]
  },
  {
   "cell_type": "code",
   "execution_count": 6,
   "metadata": {},
   "outputs": [
    {
     "data": {
      "text/plain": [
       "3.000000    1203\n",
       "1.000000     199\n",
       "4.000000      69\n",
       "3.985442       2\n",
       "1.104642       2\n",
       "            ... \n",
       "2.658837       1\n",
       "1.240424       1\n",
       "2.057935       1\n",
       "2.337035       1\n",
       "2.434347       1\n",
       "Name: NCP, Length: 635, dtype: int64"
      ]
     },
     "execution_count": 6,
     "metadata": {},
     "output_type": "execute_result"
    }
   ],
   "source": [
    "df[\"NCP\"].value_counts()"
   ]
  },
  {
   "cell_type": "markdown",
   "metadata": {},
   "source": [
    "0"
   ]
  },
  {
   "cell_type": "code",
   "execution_count": 7,
   "metadata": {},
   "outputs": [
    {
     "data": {
      "text/plain": [
       "Sometimes     1765\n",
       "Frequently     242\n",
       "Always          53\n",
       "no              51\n",
       "Name: CAEC, dtype: int64"
      ]
     },
     "execution_count": 7,
     "metadata": {},
     "output_type": "execute_result"
    }
   ],
   "source": [
    "df[\"CAEC\"].value_counts()"
   ]
  },
  {
   "cell_type": "code",
   "execution_count": 8,
   "metadata": {},
   "outputs": [],
   "source": [
    "from sklearn.preprocessing import LabelEncoder\n",
    "\n",
    "encoder=LabelEncoder()\n",
    "df_cleaned=df.copy()\n",
    "df_cleaned[\"Gender\"]=encoder.fit_transform(df[\"Gender\"])\n",
    "df_cleaned[\"family_history_with_overweight\"]=encoder.fit_transform(df[\"family_history_with_overweight\"])\n",
    "df_cleaned[\"FAVC\"]=encoder.fit_transform(df[\"FAVC\"])\n",
    "df_cleaned[\"SMOKE\"]=encoder.fit_transform(df[\"SMOKE\"])\n",
    "df_cleaned[\"SCC\"]=encoder.fit_transform(df[\"SCC\"])\n",
    "df_cleaned[\"MTRANS\"]=encoder.fit_transform(df[\"MTRANS\"])\n",
    "df_cleaned[\"NObeyesdad\"]=encoder.fit_transform(df[\"NObeyesdad\"])"
   ]
  },
  {
   "cell_type": "code",
   "execution_count": 9,
   "metadata": {},
   "outputs": [],
   "source": [
    "df_cleaned[\"CAEC\"]=df_cleaned[\"CAEC\"].replace(\"no\",0)\n",
    "df_cleaned[\"CAEC\"]=df_cleaned[\"CAEC\"].replace(\"Sometimes\",1)\n",
    "df_cleaned[\"CAEC\"]=df_cleaned[\"CAEC\"].replace(\"Frequently\",2)\n",
    "df_cleaned[\"CAEC\"]=df_cleaned[\"CAEC\"].replace(\"Always\",3)"
   ]
  },
  {
   "cell_type": "code",
   "execution_count": 10,
   "metadata": {},
   "outputs": [],
   "source": [
    "df_cleaned[\"CALC\"]=df_cleaned[\"CALC\"].replace(\"no\",0)\n",
    "df_cleaned[\"CALC\"]=df_cleaned[\"CALC\"].replace(\"Sometimes\",1)\n",
    "df_cleaned[\"CALC\"]=df_cleaned[\"CALC\"].replace(\"Frequently\",2)\n",
    "df_cleaned[\"CALC\"]=df_cleaned[\"CALC\"].replace(\"Always\",3)"
   ]
  },
  {
   "cell_type": "code",
   "execution_count": 11,
   "metadata": {},
   "outputs": [
    {
     "data": {
      "text/html": [
       "<div>\n",
       "<style scoped>\n",
       "    .dataframe tbody tr th:only-of-type {\n",
       "        vertical-align: middle;\n",
       "    }\n",
       "\n",
       "    .dataframe tbody tr th {\n",
       "        vertical-align: top;\n",
       "    }\n",
       "\n",
       "    .dataframe thead th {\n",
       "        text-align: right;\n",
       "    }\n",
       "</style>\n",
       "<table border=\"1\" class=\"dataframe\">\n",
       "  <thead>\n",
       "    <tr style=\"text-align: right;\">\n",
       "      <th></th>\n",
       "      <th>Gender</th>\n",
       "      <th>Age</th>\n",
       "      <th>Height</th>\n",
       "      <th>Weight</th>\n",
       "      <th>family_history_with_overweight</th>\n",
       "      <th>FAVC</th>\n",
       "      <th>FCVC</th>\n",
       "      <th>NCP</th>\n",
       "      <th>CAEC</th>\n",
       "      <th>SMOKE</th>\n",
       "      <th>CH2O</th>\n",
       "      <th>SCC</th>\n",
       "      <th>FAF</th>\n",
       "      <th>TUE</th>\n",
       "      <th>CALC</th>\n",
       "      <th>MTRANS</th>\n",
       "      <th>NObeyesdad</th>\n",
       "    </tr>\n",
       "  </thead>\n",
       "  <tbody>\n",
       "    <tr>\n",
       "      <th>0</th>\n",
       "      <td>0</td>\n",
       "      <td>21.000000</td>\n",
       "      <td>1.620000</td>\n",
       "      <td>64.000000</td>\n",
       "      <td>1</td>\n",
       "      <td>0</td>\n",
       "      <td>2.0</td>\n",
       "      <td>3.0</td>\n",
       "      <td>1</td>\n",
       "      <td>0</td>\n",
       "      <td>2.000000</td>\n",
       "      <td>0</td>\n",
       "      <td>0.000000</td>\n",
       "      <td>1.000000</td>\n",
       "      <td>0</td>\n",
       "      <td>3</td>\n",
       "      <td>1</td>\n",
       "    </tr>\n",
       "    <tr>\n",
       "      <th>1</th>\n",
       "      <td>0</td>\n",
       "      <td>21.000000</td>\n",
       "      <td>1.520000</td>\n",
       "      <td>56.000000</td>\n",
       "      <td>1</td>\n",
       "      <td>0</td>\n",
       "      <td>3.0</td>\n",
       "      <td>3.0</td>\n",
       "      <td>1</td>\n",
       "      <td>1</td>\n",
       "      <td>3.000000</td>\n",
       "      <td>1</td>\n",
       "      <td>3.000000</td>\n",
       "      <td>0.000000</td>\n",
       "      <td>1</td>\n",
       "      <td>3</td>\n",
       "      <td>1</td>\n",
       "    </tr>\n",
       "    <tr>\n",
       "      <th>2</th>\n",
       "      <td>1</td>\n",
       "      <td>23.000000</td>\n",
       "      <td>1.800000</td>\n",
       "      <td>77.000000</td>\n",
       "      <td>1</td>\n",
       "      <td>0</td>\n",
       "      <td>2.0</td>\n",
       "      <td>3.0</td>\n",
       "      <td>1</td>\n",
       "      <td>0</td>\n",
       "      <td>2.000000</td>\n",
       "      <td>0</td>\n",
       "      <td>2.000000</td>\n",
       "      <td>1.000000</td>\n",
       "      <td>2</td>\n",
       "      <td>3</td>\n",
       "      <td>1</td>\n",
       "    </tr>\n",
       "    <tr>\n",
       "      <th>3</th>\n",
       "      <td>1</td>\n",
       "      <td>27.000000</td>\n",
       "      <td>1.800000</td>\n",
       "      <td>87.000000</td>\n",
       "      <td>0</td>\n",
       "      <td>0</td>\n",
       "      <td>3.0</td>\n",
       "      <td>3.0</td>\n",
       "      <td>1</td>\n",
       "      <td>0</td>\n",
       "      <td>2.000000</td>\n",
       "      <td>0</td>\n",
       "      <td>2.000000</td>\n",
       "      <td>0.000000</td>\n",
       "      <td>2</td>\n",
       "      <td>4</td>\n",
       "      <td>5</td>\n",
       "    </tr>\n",
       "    <tr>\n",
       "      <th>4</th>\n",
       "      <td>1</td>\n",
       "      <td>22.000000</td>\n",
       "      <td>1.780000</td>\n",
       "      <td>89.800000</td>\n",
       "      <td>0</td>\n",
       "      <td>0</td>\n",
       "      <td>2.0</td>\n",
       "      <td>1.0</td>\n",
       "      <td>1</td>\n",
       "      <td>0</td>\n",
       "      <td>2.000000</td>\n",
       "      <td>0</td>\n",
       "      <td>0.000000</td>\n",
       "      <td>0.000000</td>\n",
       "      <td>1</td>\n",
       "      <td>3</td>\n",
       "      <td>6</td>\n",
       "    </tr>\n",
       "    <tr>\n",
       "      <th>...</th>\n",
       "      <td>...</td>\n",
       "      <td>...</td>\n",
       "      <td>...</td>\n",
       "      <td>...</td>\n",
       "      <td>...</td>\n",
       "      <td>...</td>\n",
       "      <td>...</td>\n",
       "      <td>...</td>\n",
       "      <td>...</td>\n",
       "      <td>...</td>\n",
       "      <td>...</td>\n",
       "      <td>...</td>\n",
       "      <td>...</td>\n",
       "      <td>...</td>\n",
       "      <td>...</td>\n",
       "      <td>...</td>\n",
       "      <td>...</td>\n",
       "    </tr>\n",
       "    <tr>\n",
       "      <th>2106</th>\n",
       "      <td>0</td>\n",
       "      <td>20.976842</td>\n",
       "      <td>1.710730</td>\n",
       "      <td>131.408528</td>\n",
       "      <td>1</td>\n",
       "      <td>1</td>\n",
       "      <td>3.0</td>\n",
       "      <td>3.0</td>\n",
       "      <td>1</td>\n",
       "      <td>0</td>\n",
       "      <td>1.728139</td>\n",
       "      <td>0</td>\n",
       "      <td>1.676269</td>\n",
       "      <td>0.906247</td>\n",
       "      <td>1</td>\n",
       "      <td>3</td>\n",
       "      <td>4</td>\n",
       "    </tr>\n",
       "    <tr>\n",
       "      <th>2107</th>\n",
       "      <td>0</td>\n",
       "      <td>21.982942</td>\n",
       "      <td>1.748584</td>\n",
       "      <td>133.742943</td>\n",
       "      <td>1</td>\n",
       "      <td>1</td>\n",
       "      <td>3.0</td>\n",
       "      <td>3.0</td>\n",
       "      <td>1</td>\n",
       "      <td>0</td>\n",
       "      <td>2.005130</td>\n",
       "      <td>0</td>\n",
       "      <td>1.341390</td>\n",
       "      <td>0.599270</td>\n",
       "      <td>1</td>\n",
       "      <td>3</td>\n",
       "      <td>4</td>\n",
       "    </tr>\n",
       "    <tr>\n",
       "      <th>2108</th>\n",
       "      <td>0</td>\n",
       "      <td>22.524036</td>\n",
       "      <td>1.752206</td>\n",
       "      <td>133.689352</td>\n",
       "      <td>1</td>\n",
       "      <td>1</td>\n",
       "      <td>3.0</td>\n",
       "      <td>3.0</td>\n",
       "      <td>1</td>\n",
       "      <td>0</td>\n",
       "      <td>2.054193</td>\n",
       "      <td>0</td>\n",
       "      <td>1.414209</td>\n",
       "      <td>0.646288</td>\n",
       "      <td>1</td>\n",
       "      <td>3</td>\n",
       "      <td>4</td>\n",
       "    </tr>\n",
       "    <tr>\n",
       "      <th>2109</th>\n",
       "      <td>0</td>\n",
       "      <td>24.361936</td>\n",
       "      <td>1.739450</td>\n",
       "      <td>133.346641</td>\n",
       "      <td>1</td>\n",
       "      <td>1</td>\n",
       "      <td>3.0</td>\n",
       "      <td>3.0</td>\n",
       "      <td>1</td>\n",
       "      <td>0</td>\n",
       "      <td>2.852339</td>\n",
       "      <td>0</td>\n",
       "      <td>1.139107</td>\n",
       "      <td>0.586035</td>\n",
       "      <td>1</td>\n",
       "      <td>3</td>\n",
       "      <td>4</td>\n",
       "    </tr>\n",
       "    <tr>\n",
       "      <th>2110</th>\n",
       "      <td>0</td>\n",
       "      <td>23.664709</td>\n",
       "      <td>1.738836</td>\n",
       "      <td>133.472641</td>\n",
       "      <td>1</td>\n",
       "      <td>1</td>\n",
       "      <td>3.0</td>\n",
       "      <td>3.0</td>\n",
       "      <td>1</td>\n",
       "      <td>0</td>\n",
       "      <td>2.863513</td>\n",
       "      <td>0</td>\n",
       "      <td>1.026452</td>\n",
       "      <td>0.714137</td>\n",
       "      <td>1</td>\n",
       "      <td>3</td>\n",
       "      <td>4</td>\n",
       "    </tr>\n",
       "  </tbody>\n",
       "</table>\n",
       "<p>2111 rows × 17 columns</p>\n",
       "</div>"
      ],
      "text/plain": [
       "      Gender        Age    Height      Weight  family_history_with_overweight  \\\n",
       "0          0  21.000000  1.620000   64.000000                               1   \n",
       "1          0  21.000000  1.520000   56.000000                               1   \n",
       "2          1  23.000000  1.800000   77.000000                               1   \n",
       "3          1  27.000000  1.800000   87.000000                               0   \n",
       "4          1  22.000000  1.780000   89.800000                               0   \n",
       "...      ...        ...       ...         ...                             ...   \n",
       "2106       0  20.976842  1.710730  131.408528                               1   \n",
       "2107       0  21.982942  1.748584  133.742943                               1   \n",
       "2108       0  22.524036  1.752206  133.689352                               1   \n",
       "2109       0  24.361936  1.739450  133.346641                               1   \n",
       "2110       0  23.664709  1.738836  133.472641                               1   \n",
       "\n",
       "      FAVC  FCVC  NCP  CAEC  SMOKE      CH2O  SCC       FAF       TUE  CALC  \\\n",
       "0        0   2.0  3.0     1      0  2.000000    0  0.000000  1.000000     0   \n",
       "1        0   3.0  3.0     1      1  3.000000    1  3.000000  0.000000     1   \n",
       "2        0   2.0  3.0     1      0  2.000000    0  2.000000  1.000000     2   \n",
       "3        0   3.0  3.0     1      0  2.000000    0  2.000000  0.000000     2   \n",
       "4        0   2.0  1.0     1      0  2.000000    0  0.000000  0.000000     1   \n",
       "...    ...   ...  ...   ...    ...       ...  ...       ...       ...   ...   \n",
       "2106     1   3.0  3.0     1      0  1.728139    0  1.676269  0.906247     1   \n",
       "2107     1   3.0  3.0     1      0  2.005130    0  1.341390  0.599270     1   \n",
       "2108     1   3.0  3.0     1      0  2.054193    0  1.414209  0.646288     1   \n",
       "2109     1   3.0  3.0     1      0  2.852339    0  1.139107  0.586035     1   \n",
       "2110     1   3.0  3.0     1      0  2.863513    0  1.026452  0.714137     1   \n",
       "\n",
       "      MTRANS  NObeyesdad  \n",
       "0          3           1  \n",
       "1          3           1  \n",
       "2          3           1  \n",
       "3          4           5  \n",
       "4          3           6  \n",
       "...      ...         ...  \n",
       "2106       3           4  \n",
       "2107       3           4  \n",
       "2108       3           4  \n",
       "2109       3           4  \n",
       "2110       3           4  \n",
       "\n",
       "[2111 rows x 17 columns]"
      ]
     },
     "execution_count": 11,
     "metadata": {},
     "output_type": "execute_result"
    }
   ],
   "source": [
    "df_cleaned"
   ]
  },
  {
   "cell_type": "code",
   "execution_count": 12,
   "metadata": {},
   "outputs": [
    {
     "data": {
      "text/plain": [
       "['Insufficient_Weight',\n",
       " 'Normal_Weight',\n",
       " 'Obesity_Type_I',\n",
       " 'Obesity_Type_II',\n",
       " 'Obesity_Type_III',\n",
       " 'Overweight_Level_I',\n",
       " 'Overweight_Level_II']"
      ]
     },
     "execution_count": 12,
     "metadata": {},
     "output_type": "execute_result"
    }
   ],
   "source": [
    "list(encoder.classes_)"
   ]
  },
  {
   "cell_type": "code",
   "execution_count": 69,
   "metadata": {},
   "outputs": [
    {
     "data": {
      "text/plain": [
       "<AxesSubplot:>"
      ]
     },
     "execution_count": 69,
     "metadata": {},
     "output_type": "execute_result"
    },
    {
     "data": {
      "image/png": "[encoded data removed]",
      "text/plain": [
       "<Figure size 1440x576 with 2 Axes>"
      ]
     },
     "metadata": {
      "needs_background": "light"
     },
     "output_type": "display_data"
    }
   ],
   "source": [
    "corr=df_cleaned.corr()\n",
    "cmap = sns.diverging_palette(230, 20, as_cmap=True)\n",
    "f, ax = plt.subplots(figsize=(20, 8))\n",
    "sns.heatmap(corr, cmap=cmap, vmax=.3, center=0,\n",
    "            square=True, linewidths=.5, cbar_kws={\"shrink\": .5})"
   ]
  },
  {
   "cell_type": "code",
   "execution_count": null,
   "metadata": {},
   "outputs": [],
   "source": [
    "#j'ai un peu de mal à interpreter la heatmap suivante donc je pense qu'on va pas la prendre"
   ]
  },
  {
   "cell_type": "code",
   "execution_count": 68,
   "metadata": {},
   "outputs": [
    {
     "data": {
      "image/png": "[encoded data removed]",
      "text/plain": [
       "<Figure size 936x936 with 2 Axes>"
      ]
     },
     "metadata": {},
     "output_type": "display_data"
    }
   ],
   "source": [
    "corr = df_cleaned.corr().round(2)\n",
    "\n",
    "mask = np.zeros_like(corr)\n",
    "mask[np.triu_indices_from(mask)] = True\n",
    "with sns.axes_style(\"white\"):\n",
    "    fig, ax = plt.subplots(figsize=(13,13))\n",
    "    sns.heatmap(ax=ax, data=corr, mask=mask, annot=True, center=0, vmin=-1, vmax=1, cmap=\"RdBu_r\");"
   ]
  },
  {
   "cell_type": "code",
   "execution_count": 14,
   "metadata": {},
   "outputs": [
    {
     "data": {
      "text/plain": [
       "count    2111.000000\n",
       "mean       24.312600\n",
       "std         6.345968\n",
       "min        14.000000\n",
       "25%        19.947192\n",
       "50%        22.777890\n",
       "75%        26.000000\n",
       "max        61.000000\n",
       "Name: Age, dtype: float64"
      ]
     },
     "execution_count": 14,
     "metadata": {},
     "output_type": "execute_result"
    }
   ],
   "source": [
    "df_cleaned[\"Age\"].describe()"
   ]
  },
  {
   "cell_type": "code",
   "execution_count": 15,
   "metadata": {},
   "outputs": [],
   "source": [
    "def categorize_age(age):\n",
    "    if age<20:\n",
    "        return \"-20\"\n",
    "    if age>20 and age<30:\n",
    "        return \"20-30\"\n",
    "    if age>30 and age<40:\n",
    "        return \"30-40\"\n",
    "    if age>40:\n",
    "        return \"+40\""
   ]
  },
  {
   "cell_type": "code",
   "execution_count": 16,
   "metadata": {},
   "outputs": [],
   "source": [
    "df_cleaned[\"Age_categories\"]=df_cleaned[\"Age\"].apply(categorize_age)"
   ]
  },
  {
   "cell_type": "code",
   "execution_count": 17,
   "metadata": {},
   "outputs": [
    {
     "data": {
      "text/plain": [
       "20-30    1162\n",
       "-20       537\n",
       "30-40     293\n",
       "+40        57\n",
       "Name: Age_categories, dtype: int64"
      ]
     },
     "execution_count": 17,
     "metadata": {},
     "output_type": "execute_result"
    }
   ],
   "source": [
    "df_cleaned[\"Age_categories\"].value_counts()"
   ]
  },
  {
   "cell_type": "code",
   "execution_count": 18,
   "metadata": {},
   "outputs": [],
   "source": [
    "gp=df_cleaned[[\"Age_categories\",\"NObeyesdad\"]].groupby(\"NObeyesdad\")"
   ]
  },
  {
   "cell_type": "code",
   "execution_count": 19,
   "metadata": {},
   "outputs": [
    {
     "data": {
      "text/html": [
       "<div>\n",
       "<style scoped>\n",
       "    .dataframe tbody tr th:only-of-type {\n",
       "        vertical-align: middle;\n",
       "    }\n",
       "\n",
       "    .dataframe tbody tr th {\n",
       "        vertical-align: top;\n",
       "    }\n",
       "\n",
       "    .dataframe thead th {\n",
       "        text-align: right;\n",
       "    }\n",
       "</style>\n",
       "<table border=\"1\" class=\"dataframe\">\n",
       "  <thead>\n",
       "    <tr style=\"text-align: right;\">\n",
       "      <th></th>\n",
       "      <th>Age_categories</th>\n",
       "    </tr>\n",
       "    <tr>\n",
       "      <th>NObeyesdad</th>\n",
       "      <th></th>\n",
       "    </tr>\n",
       "  </thead>\n",
       "  <tbody>\n",
       "    <tr>\n",
       "      <th>0</th>\n",
       "      <td>None</td>\n",
       "    </tr>\n",
       "    <tr>\n",
       "      <th>1</th>\n",
       "      <td>20-30</td>\n",
       "    </tr>\n",
       "    <tr>\n",
       "      <th>2</th>\n",
       "      <td>20-30</td>\n",
       "    </tr>\n",
       "    <tr>\n",
       "      <th>3</th>\n",
       "      <td>None</td>\n",
       "    </tr>\n",
       "    <tr>\n",
       "      <th>4</th>\n",
       "      <td>20-30</td>\n",
       "    </tr>\n",
       "    <tr>\n",
       "      <th>5</th>\n",
       "      <td>20-30</td>\n",
       "    </tr>\n",
       "    <tr>\n",
       "      <th>6</th>\n",
       "      <td>20-30</td>\n",
       "    </tr>\n",
       "  </tbody>\n",
       "</table>\n",
       "</div>"
      ],
      "text/plain": [
       "           Age_categories\n",
       "NObeyesdad               \n",
       "0                    None\n",
       "1                   20-30\n",
       "2                   20-30\n",
       "3                    None\n",
       "4                   20-30\n",
       "5                   20-30\n",
       "6                   20-30"
      ]
     },
     "execution_count": 19,
     "metadata": {},
     "output_type": "execute_result"
    }
   ],
   "source": [
    "gp.first()"
   ]
  },
  {
   "cell_type": "markdown",
   "metadata": {},
   "source": [
    "5, 6 graphiques (family history, age, CAEC (, smoke))\n",
    "\n",
    "-Standardisation, Normalisation...\n",
    "-Avec et sans colonne avec corrélation proche de 0\n",
    "-One hot encoder https://scikit-learn.org/stable/modules/generated/sklearn.preprocessing.OneHotEncoder.html\n",
    "-ACP"
   ]
  },
  {
   "cell_type": "code",
   "execution_count": 20,
   "metadata": {},
   "outputs": [
    {
     "data": {
      "text/plain": [
       "<seaborn.axisgrid.FacetGrid at 0x20f878aacd0>"
      ]
     },
     "execution_count": 20,
     "metadata": {},
     "output_type": "execute_result"
    },
    {
     "data": {
      "image/png": "[encoded data removed]",
      "text/plain": [
       "<Figure size 503.75x432 with 1 Axes>"
      ]
     },
     "metadata": {
      "needs_background": "light"
     },
     "output_type": "display_data"
    }
   ],
   "source": [
    "g = sns.catplot(\n",
    "    data=df_cleaned, kind=\"bar\",\n",
    "    y=\"NObeyesdad\", x=\"Age_categories\", hue=\"NObeyesdad\",\n",
    "    ci=\"sd\", palette=\"dark\", alpha=.6, height=6\n",
    ")\n",
    "g.despine(left=True)\n",
    "g.set_axis_labels(\"\", \"Body mass (g)\")"
   ]
  },
  {
   "cell_type": "code",
   "execution_count": null,
   "metadata": {},
   "outputs": [],
   "source": []
  },
  {
   "cell_type": "code",
   "execution_count": null,
   "metadata": {},
   "outputs": [],
   "source": []
  },
  {
   "cell_type": "code",
   "execution_count": 22,
   "metadata": {},
   "outputs": [
    {
     "data": {
      "image/png": "[encoded data removed]",
      "text/plain": [
       "<Figure size 432x288 with 1 Axes>"
      ]
     },
     "metadata": {
      "needs_background": "light"
     },
     "output_type": "display_data"
    }
   ],
   "source": [
    "hist = df_cleaned.hist('NObeyesdad', bins = 50 ,color = 'DarkBlue')"
   ]
  },
  {
   "cell_type": "code",
   "execution_count": 23,
   "metadata": {},
   "outputs": [
    {
     "data": {
      "text/plain": [
       "array([[<AxesSubplot:title={'center':'family_history_with_overweight'}>,\n",
       "        <AxesSubplot:title={'center':'NObeyesdad'}>]], dtype=object)"
      ]
     },
     "execution_count": 23,
     "metadata": {},
     "output_type": "execute_result"
    },
    {
     "data": {
      "image/png": "[encoded data removed]",
      "text/plain": [
       "<Figure size 432x288 with 2 Axes>"
      ]
     },
     "metadata": {
      "needs_background": "light"
     },
     "output_type": "display_data"
    }
   ],
   "source": [
    "df_cleaned.hist(column = ['family_history_with_overweight','NObeyesdad'])"
   ]
  },
  {
   "cell_type": "code",
   "execution_count": null,
   "metadata": {},
   "outputs": [],
   "source": []
  },
  {
   "cell_type": "code",
   "execution_count": 31,
   "metadata": {},
   "outputs": [
    {
     "data": {
      "image/png": "[encoded data removed]",
      "text/plain": [
       "<Figure size 576x360 with 7 Axes>"
      ]
     },
     "metadata": {
      "needs_background": "light"
     },
     "output_type": "display_data"
    }
   ],
   "source": [
    "g = sns.catplot(x=\"family_history_with_overweight\", col=\"NObeyesdad\", col_wrap=4,\n",
    "                data=df_cleaned,\n",
    "                kind=\"count\", height=2.5, aspect=.8) \n"
   ]
  },
  {
   "cell_type": "raw",
   "metadata": {},
   "source": [
    "graphs à interpreter "
   ]
  },
  {
   "cell_type": "code",
   "execution_count": 63,
   "metadata": {},
   "outputs": [
    {
     "data": {
      "text/plain": [
       "<seaborn.axisgrid.FacetGrid at 0x20fade16490>"
      ]
     },
     "execution_count": 63,
     "metadata": {},
     "output_type": "execute_result"
    },
    {
     "data": {
      "image/png": "[encoded data removed]",
      "text/plain": [
       "<Figure size 864x360 with 4 Axes>"
      ]
     },
     "metadata": {
      "needs_background": "light"
     },
     "output_type": "display_data"
    }
   ],
   "source": [
    "g = sns.catplot(x=\"CAEC\", y=\"NObeyesdad\", \n",
    "                col=\"Age_categories\",\n",
    "                data=df_cleaned, saturation=.5,\n",
    "                kind=\"bar\", ci=None, aspect=.6)\n",
    "\n",
    "(g.set_axis_labels(\"\", \"average Obesity level\")\n",
    "  .set_xticklabels([\"no\",\"Sometimes\",\"Frequently\",\"Always\"])\n",
    "  .set_titles(\"{col_name} {col_var}\")\n",
    "  .despine(left=True))"
   ]
  },
  {
   "cell_type": "code",
   "execution_count": 64,
   "metadata": {},
   "outputs": [
    {
     "data": {
      "text/plain": [
       "<seaborn.axisgrid.FacetGrid at 0x20faec150d0>"
      ]
     },
     "execution_count": 64,
     "metadata": {},
     "output_type": "execute_result"
    },
    {
     "data": {
      "image/png": "[encoded data removed]",
      "text/plain": [
       "<Figure size 864x360 with 4 Axes>"
      ]
     },
     "metadata": {
      "needs_background": "light"
     },
     "output_type": "display_data"
    }
   ],
   "source": [
    "g = sns.catplot(x=\"CALC\", y=\"NObeyesdad\", \n",
    "                col=\"Age_categories\",\n",
    "                data=df_cleaned, saturation=.5,\n",
    "                kind=\"bar\", ci=None, aspect=.6)\n",
    "\n",
    "(g.set_axis_labels(\"\", \"average Obesity level\")\n",
    "  .set_xticklabels([\"no\",\"Sometimes\",\"Frequently\",\"Always\"])\n",
    "  .set_titles(\"{col_name} {col_var}\")\n",
    "  .despine(left=True))"
   ]
  },
  {
   "cell_type": "code",
   "execution_count": 42,
   "metadata": {},
   "outputs": [
    {
     "data": {
      "text/plain": [
       "1    1726\n",
       "0     385\n",
       "Name: family_history_with_overweight, dtype: int64"
      ]
     },
     "execution_count": 42,
     "metadata": {},
     "output_type": "execute_result"
    }
   ],
   "source": [
    "df_cleaned[\"family_history_with_overweight\"].value_counts()"
   ]
  },
  {
   "cell_type": "markdown",
   "metadata": {},
   "source": [
    "graphs a interpreter\n"
   ]
  },
  {
   "cell_type": "code",
   "execution_count": 45,
   "metadata": {},
   "outputs": [
    {
     "data": {
      "image/png": "[encoded data removed]",
      "text/plain": [
       "<Figure size 432x144 with 1 Axes>"
      ]
     },
     "metadata": {
      "needs_background": "light"
     },
     "output_type": "display_data"
    }
   ],
   "source": [
    "gr = sns.catplot(x=\"Age\", y=\"NObeyesdad\",\n",
    "                data=df_cleaned,\n",
    "                orient=\"h\", height=2, aspect=3, palette=\"Set3\",\n",
    "                kind=\"violin\", dodge=True, cut=0, bw=.2)"
   ]
  },
  {
   "cell_type": "code",
   "execution_count": 59,
   "metadata": {},
   "outputs": [
    {
     "data": {
      "image/png": "[encoded data removed]",
      "text/plain": [
       "<Figure size 432x288 with 1 Axes>"
      ]
     },
     "metadata": {
      "needs_background": "light"
     },
     "output_type": "display_data"
    }
   ],
   "source": [
    "ax = sns.barplot(y=\"SMOKE\", x=\"NObeyesdad\", data=df_cleaned)"
   ]
  },
  {
   "cell_type": "code",
   "execution_count": 65,
   "metadata": {},
   "outputs": [],
   "source": [
    "#variables qu'on a décidé de garder (plus importantes pour le modele) : CAEC, Age, CALC, family_history"
   ]
  },
  {
   "cell_type": "code",
   "execution_count": 66,
   "metadata": {},
   "outputs": [],
   "source": [
    "#separation des données puis normalization etc :"
   ]
  },
  {
   "cell_type": "code",
   "execution_count": 152,
   "metadata": {},
   "outputs": [],
   "source": [
    "data = pd.DataFrame(df_cleaned[[\"Age\",\"Age_categories\",\"family_history_with_overweight\",\"CALC\",\"CAEC\",\"NObeyesdad\"]])"
   ]
  },
  {
   "cell_type": "code",
   "execution_count": 154,
   "metadata": {},
   "outputs": [],
   "source": [
    "data_complet = pd.DataFrame(df_cleaned[[\"Age\",\"Weight\",\"Age_categories\",\"family_history_with_overweight\",\"CALC\",\"CAEC\",\"NObeyesdad\"]])"
   ]
  },
  {
   "cell_type": "code",
   "execution_count": 155,
   "metadata": {},
   "outputs": [
    {
     "data": {
      "text/html": [
       "<div>\n",
       "<style scoped>\n",
       "    .dataframe tbody tr th:only-of-type {\n",
       "        vertical-align: middle;\n",
       "    }\n",
       "\n",
       "    .dataframe tbody tr th {\n",
       "        vertical-align: top;\n",
       "    }\n",
       "\n",
       "    .dataframe thead th {\n",
       "        text-align: right;\n",
       "    }\n",
       "</style>\n",
       "<table border=\"1\" class=\"dataframe\">\n",
       "  <thead>\n",
       "    <tr style=\"text-align: right;\">\n",
       "      <th></th>\n",
       "      <th>Age</th>\n",
       "      <th>Weight</th>\n",
       "      <th>Age_categories</th>\n",
       "      <th>family_history_with_overweight</th>\n",
       "      <th>CALC</th>\n",
       "      <th>CAEC</th>\n",
       "      <th>NObeyesdad</th>\n",
       "    </tr>\n",
       "  </thead>\n",
       "  <tbody>\n",
       "    <tr>\n",
       "      <th>0</th>\n",
       "      <td>21.000000</td>\n",
       "      <td>64.000000</td>\n",
       "      <td>20-30</td>\n",
       "      <td>1</td>\n",
       "      <td>0</td>\n",
       "      <td>1</td>\n",
       "      <td>1</td>\n",
       "    </tr>\n",
       "    <tr>\n",
       "      <th>1</th>\n",
       "      <td>21.000000</td>\n",
       "      <td>56.000000</td>\n",
       "      <td>20-30</td>\n",
       "      <td>1</td>\n",
       "      <td>1</td>\n",
       "      <td>1</td>\n",
       "      <td>1</td>\n",
       "    </tr>\n",
       "    <tr>\n",
       "      <th>2</th>\n",
       "      <td>23.000000</td>\n",
       "      <td>77.000000</td>\n",
       "      <td>20-30</td>\n",
       "      <td>1</td>\n",
       "      <td>2</td>\n",
       "      <td>1</td>\n",
       "      <td>1</td>\n",
       "    </tr>\n",
       "    <tr>\n",
       "      <th>3</th>\n",
       "      <td>27.000000</td>\n",
       "      <td>87.000000</td>\n",
       "      <td>20-30</td>\n",
       "      <td>0</td>\n",
       "      <td>2</td>\n",
       "      <td>1</td>\n",
       "      <td>5</td>\n",
       "    </tr>\n",
       "    <tr>\n",
       "      <th>4</th>\n",
       "      <td>22.000000</td>\n",
       "      <td>89.800000</td>\n",
       "      <td>20-30</td>\n",
       "      <td>0</td>\n",
       "      <td>1</td>\n",
       "      <td>1</td>\n",
       "      <td>6</td>\n",
       "    </tr>\n",
       "    <tr>\n",
       "      <th>...</th>\n",
       "      <td>...</td>\n",
       "      <td>...</td>\n",
       "      <td>...</td>\n",
       "      <td>...</td>\n",
       "      <td>...</td>\n",
       "      <td>...</td>\n",
       "      <td>...</td>\n",
       "    </tr>\n",
       "    <tr>\n",
       "      <th>2106</th>\n",
       "      <td>20.976842</td>\n",
       "      <td>131.408528</td>\n",
       "      <td>20-30</td>\n",
       "      <td>1</td>\n",
       "      <td>1</td>\n",
       "      <td>1</td>\n",
       "      <td>4</td>\n",
       "    </tr>\n",
       "    <tr>\n",
       "      <th>2107</th>\n",
       "      <td>21.982942</td>\n",
       "      <td>133.742943</td>\n",
       "      <td>20-30</td>\n",
       "      <td>1</td>\n",
       "      <td>1</td>\n",
       "      <td>1</td>\n",
       "      <td>4</td>\n",
       "    </tr>\n",
       "    <tr>\n",
       "      <th>2108</th>\n",
       "      <td>22.524036</td>\n",
       "      <td>133.689352</td>\n",
       "      <td>20-30</td>\n",
       "      <td>1</td>\n",
       "      <td>1</td>\n",
       "      <td>1</td>\n",
       "      <td>4</td>\n",
       "    </tr>\n",
       "    <tr>\n",
       "      <th>2109</th>\n",
       "      <td>24.361936</td>\n",
       "      <td>133.346641</td>\n",
       "      <td>20-30</td>\n",
       "      <td>1</td>\n",
       "      <td>1</td>\n",
       "      <td>1</td>\n",
       "      <td>4</td>\n",
       "    </tr>\n",
       "    <tr>\n",
       "      <th>2110</th>\n",
       "      <td>23.664709</td>\n",
       "      <td>133.472641</td>\n",
       "      <td>20-30</td>\n",
       "      <td>1</td>\n",
       "      <td>1</td>\n",
       "      <td>1</td>\n",
       "      <td>4</td>\n",
       "    </tr>\n",
       "  </tbody>\n",
       "</table>\n",
       "<p>2111 rows × 7 columns</p>\n",
       "</div>"
      ],
      "text/plain": [
       "            Age      Weight Age_categories  family_history_with_overweight  \\\n",
       "0     21.000000   64.000000          20-30                               1   \n",
       "1     21.000000   56.000000          20-30                               1   \n",
       "2     23.000000   77.000000          20-30                               1   \n",
       "3     27.000000   87.000000          20-30                               0   \n",
       "4     22.000000   89.800000          20-30                               0   \n",
       "...         ...         ...            ...                             ...   \n",
       "2106  20.976842  131.408528          20-30                               1   \n",
       "2107  21.982942  133.742943          20-30                               1   \n",
       "2108  22.524036  133.689352          20-30                               1   \n",
       "2109  24.361936  133.346641          20-30                               1   \n",
       "2110  23.664709  133.472641          20-30                               1   \n",
       "\n",
       "      CALC  CAEC  NObeyesdad  \n",
       "0        0     1           1  \n",
       "1        1     1           1  \n",
       "2        2     1           1  \n",
       "3        2     1           5  \n",
       "4        1     1           6  \n",
       "...    ...   ...         ...  \n",
       "2106     1     1           4  \n",
       "2107     1     1           4  \n",
       "2108     1     1           4  \n",
       "2109     1     1           4  \n",
       "2110     1     1           4  \n",
       "\n",
       "[2111 rows x 7 columns]"
      ]
     },
     "execution_count": 155,
     "metadata": {},
     "output_type": "execute_result"
    }
   ],
   "source": [
    "data_complet"
   ]
  },
  {
   "cell_type": "code",
   "execution_count": 83,
   "metadata": {},
   "outputs": [
    {
     "data": {
      "text/html": [
       "<div>\n",
       "<style scoped>\n",
       "    .dataframe tbody tr th:only-of-type {\n",
       "        vertical-align: middle;\n",
       "    }\n",
       "\n",
       "    .dataframe tbody tr th {\n",
       "        vertical-align: top;\n",
       "    }\n",
       "\n",
       "    .dataframe thead th {\n",
       "        text-align: right;\n",
       "    }\n",
       "</style>\n",
       "<table border=\"1\" class=\"dataframe\">\n",
       "  <thead>\n",
       "    <tr style=\"text-align: right;\">\n",
       "      <th></th>\n",
       "      <th>Age</th>\n",
       "      <th>Age_categories</th>\n",
       "      <th>family_history_with_overweight</th>\n",
       "      <th>CALC</th>\n",
       "      <th>CAEC</th>\n",
       "      <th>NObeyesdad</th>\n",
       "    </tr>\n",
       "  </thead>\n",
       "  <tbody>\n",
       "    <tr>\n",
       "      <th>0</th>\n",
       "      <td>21.000000</td>\n",
       "      <td>20-30</td>\n",
       "      <td>1</td>\n",
       "      <td>0</td>\n",
       "      <td>1</td>\n",
       "      <td>1</td>\n",
       "    </tr>\n",
       "    <tr>\n",
       "      <th>1</th>\n",
       "      <td>21.000000</td>\n",
       "      <td>20-30</td>\n",
       "      <td>1</td>\n",
       "      <td>1</td>\n",
       "      <td>1</td>\n",
       "      <td>1</td>\n",
       "    </tr>\n",
       "    <tr>\n",
       "      <th>2</th>\n",
       "      <td>23.000000</td>\n",
       "      <td>20-30</td>\n",
       "      <td>1</td>\n",
       "      <td>2</td>\n",
       "      <td>1</td>\n",
       "      <td>1</td>\n",
       "    </tr>\n",
       "    <tr>\n",
       "      <th>3</th>\n",
       "      <td>27.000000</td>\n",
       "      <td>20-30</td>\n",
       "      <td>0</td>\n",
       "      <td>2</td>\n",
       "      <td>1</td>\n",
       "      <td>5</td>\n",
       "    </tr>\n",
       "    <tr>\n",
       "      <th>4</th>\n",
       "      <td>22.000000</td>\n",
       "      <td>20-30</td>\n",
       "      <td>0</td>\n",
       "      <td>1</td>\n",
       "      <td>1</td>\n",
       "      <td>6</td>\n",
       "    </tr>\n",
       "    <tr>\n",
       "      <th>...</th>\n",
       "      <td>...</td>\n",
       "      <td>...</td>\n",
       "      <td>...</td>\n",
       "      <td>...</td>\n",
       "      <td>...</td>\n",
       "      <td>...</td>\n",
       "    </tr>\n",
       "    <tr>\n",
       "      <th>2106</th>\n",
       "      <td>20.976842</td>\n",
       "      <td>20-30</td>\n",
       "      <td>1</td>\n",
       "      <td>1</td>\n",
       "      <td>1</td>\n",
       "      <td>4</td>\n",
       "    </tr>\n",
       "    <tr>\n",
       "      <th>2107</th>\n",
       "      <td>21.982942</td>\n",
       "      <td>20-30</td>\n",
       "      <td>1</td>\n",
       "      <td>1</td>\n",
       "      <td>1</td>\n",
       "      <td>4</td>\n",
       "    </tr>\n",
       "    <tr>\n",
       "      <th>2108</th>\n",
       "      <td>22.524036</td>\n",
       "      <td>20-30</td>\n",
       "      <td>1</td>\n",
       "      <td>1</td>\n",
       "      <td>1</td>\n",
       "      <td>4</td>\n",
       "    </tr>\n",
       "    <tr>\n",
       "      <th>2109</th>\n",
       "      <td>24.361936</td>\n",
       "      <td>20-30</td>\n",
       "      <td>1</td>\n",
       "      <td>1</td>\n",
       "      <td>1</td>\n",
       "      <td>4</td>\n",
       "    </tr>\n",
       "    <tr>\n",
       "      <th>2110</th>\n",
       "      <td>23.664709</td>\n",
       "      <td>20-30</td>\n",
       "      <td>1</td>\n",
       "      <td>1</td>\n",
       "      <td>1</td>\n",
       "      <td>4</td>\n",
       "    </tr>\n",
       "  </tbody>\n",
       "</table>\n",
       "<p>2111 rows × 6 columns</p>\n",
       "</div>"
      ],
      "text/plain": [
       "            Age Age_categories  family_history_with_overweight  CALC  CAEC  \\\n",
       "0     21.000000          20-30                               1     0     1   \n",
       "1     21.000000          20-30                               1     1     1   \n",
       "2     23.000000          20-30                               1     2     1   \n",
       "3     27.000000          20-30                               0     2     1   \n",
       "4     22.000000          20-30                               0     1     1   \n",
       "...         ...            ...                             ...   ...   ...   \n",
       "2106  20.976842          20-30                               1     1     1   \n",
       "2107  21.982942          20-30                               1     1     1   \n",
       "2108  22.524036          20-30                               1     1     1   \n",
       "2109  24.361936          20-30                               1     1     1   \n",
       "2110  23.664709          20-30                               1     1     1   \n",
       "\n",
       "      NObeyesdad  \n",
       "0              1  \n",
       "1              1  \n",
       "2              1  \n",
       "3              5  \n",
       "4              6  \n",
       "...          ...  \n",
       "2106           4  \n",
       "2107           4  \n",
       "2108           4  \n",
       "2109           4  \n",
       "2110           4  \n",
       "\n",
       "[2111 rows x 6 columns]"
      ]
     },
     "execution_count": 83,
     "metadata": {},
     "output_type": "execute_result"
    }
   ],
   "source": [
    "data"
   ]
  },
  {
   "cell_type": "code",
   "execution_count": 85,
   "metadata": {},
   "outputs": [],
   "source": []
  },
  {
   "cell_type": "code",
   "execution_count": 91,
   "metadata": {},
   "outputs": [],
   "source": [
    "target = \"NObeyesdad\""
   ]
  },
  {
   "cell_type": "code",
   "execution_count": 156,
   "metadata": {},
   "outputs": [],
   "source": [
    "x= data[[\"Age\",\"family_history_with_overweight\",\"CALC\",\"CAEC\"]]\n",
    "y= data[target]"
   ]
  },
  {
   "cell_type": "code",
   "execution_count": null,
   "metadata": {},
   "outputs": [],
   "source": []
  },
  {
   "cell_type": "code",
   "execution_count": 95,
   "metadata": {},
   "outputs": [
    {
     "data": {
      "text/html": [
       "<div>\n",
       "<style scoped>\n",
       "    .dataframe tbody tr th:only-of-type {\n",
       "        vertical-align: middle;\n",
       "    }\n",
       "\n",
       "    .dataframe tbody tr th {\n",
       "        vertical-align: top;\n",
       "    }\n",
       "\n",
       "    .dataframe thead th {\n",
       "        text-align: right;\n",
       "    }\n",
       "</style>\n",
       "<table border=\"1\" class=\"dataframe\">\n",
       "  <thead>\n",
       "    <tr style=\"text-align: right;\">\n",
       "      <th></th>\n",
       "      <th>Age</th>\n",
       "      <th>family_history_with_overweight</th>\n",
       "      <th>CALC</th>\n",
       "      <th>CAEC</th>\n",
       "    </tr>\n",
       "  </thead>\n",
       "  <tbody>\n",
       "    <tr>\n",
       "      <th>0</th>\n",
       "      <td>21.000000</td>\n",
       "      <td>1</td>\n",
       "      <td>0</td>\n",
       "      <td>1</td>\n",
       "    </tr>\n",
       "    <tr>\n",
       "      <th>1</th>\n",
       "      <td>21.000000</td>\n",
       "      <td>1</td>\n",
       "      <td>1</td>\n",
       "      <td>1</td>\n",
       "    </tr>\n",
       "    <tr>\n",
       "      <th>2</th>\n",
       "      <td>23.000000</td>\n",
       "      <td>1</td>\n",
       "      <td>2</td>\n",
       "      <td>1</td>\n",
       "    </tr>\n",
       "    <tr>\n",
       "      <th>3</th>\n",
       "      <td>27.000000</td>\n",
       "      <td>0</td>\n",
       "      <td>2</td>\n",
       "      <td>1</td>\n",
       "    </tr>\n",
       "    <tr>\n",
       "      <th>4</th>\n",
       "      <td>22.000000</td>\n",
       "      <td>0</td>\n",
       "      <td>1</td>\n",
       "      <td>1</td>\n",
       "    </tr>\n",
       "    <tr>\n",
       "      <th>...</th>\n",
       "      <td>...</td>\n",
       "      <td>...</td>\n",
       "      <td>...</td>\n",
       "      <td>...</td>\n",
       "    </tr>\n",
       "    <tr>\n",
       "      <th>2106</th>\n",
       "      <td>20.976842</td>\n",
       "      <td>1</td>\n",
       "      <td>1</td>\n",
       "      <td>1</td>\n",
       "    </tr>\n",
       "    <tr>\n",
       "      <th>2107</th>\n",
       "      <td>21.982942</td>\n",
       "      <td>1</td>\n",
       "      <td>1</td>\n",
       "      <td>1</td>\n",
       "    </tr>\n",
       "    <tr>\n",
       "      <th>2108</th>\n",
       "      <td>22.524036</td>\n",
       "      <td>1</td>\n",
       "      <td>1</td>\n",
       "      <td>1</td>\n",
       "    </tr>\n",
       "    <tr>\n",
       "      <th>2109</th>\n",
       "      <td>24.361936</td>\n",
       "      <td>1</td>\n",
       "      <td>1</td>\n",
       "      <td>1</td>\n",
       "    </tr>\n",
       "    <tr>\n",
       "      <th>2110</th>\n",
       "      <td>23.664709</td>\n",
       "      <td>1</td>\n",
       "      <td>1</td>\n",
       "      <td>1</td>\n",
       "    </tr>\n",
       "  </tbody>\n",
       "</table>\n",
       "<p>2111 rows × 4 columns</p>\n",
       "</div>"
      ],
      "text/plain": [
       "            Age  family_history_with_overweight  CALC  CAEC\n",
       "0     21.000000                               1     0     1\n",
       "1     21.000000                               1     1     1\n",
       "2     23.000000                               1     2     1\n",
       "3     27.000000                               0     2     1\n",
       "4     22.000000                               0     1     1\n",
       "...         ...                             ...   ...   ...\n",
       "2106  20.976842                               1     1     1\n",
       "2107  21.982942                               1     1     1\n",
       "2108  22.524036                               1     1     1\n",
       "2109  24.361936                               1     1     1\n",
       "2110  23.664709                               1     1     1\n",
       "\n",
       "[2111 rows x 4 columns]"
      ]
     },
     "execution_count": 95,
     "metadata": {},
     "output_type": "execute_result"
    }
   ],
   "source": [
    "x"
   ]
  },
  {
   "cell_type": "code",
   "execution_count": 97,
   "metadata": {},
   "outputs": [
    {
     "data": {
      "text/plain": [
       "0       1\n",
       "1       1\n",
       "2       1\n",
       "3       5\n",
       "4       6\n",
       "       ..\n",
       "2106    4\n",
       "2107    4\n",
       "2108    4\n",
       "2109    4\n",
       "2110    4\n",
       "Name: NObeyesdad, Length: 2111, dtype: int32"
      ]
     },
     "execution_count": 97,
     "metadata": {},
     "output_type": "execute_result"
    }
   ],
   "source": [
    "y"
   ]
  },
  {
   "cell_type": "code",
   "execution_count": 99,
   "metadata": {},
   "outputs": [],
   "source": [
    "X_train, X_test,Y_train,Y_test=train_test_split(x, y, test_size= 0.3)"
   ]
  },
  {
   "cell_type": "code",
   "execution_count": 101,
   "metadata": {},
   "outputs": [
    {
     "name": "stdout",
     "output_type": "stream",
     "text": [
      "(1477, 4)\n",
      "(634, 4)\n",
      "(1477,)\n",
      "(634,)\n"
     ]
    }
   ],
   "source": [
    "print(X_train.shape)\n",
    "print(X_test.shape)\n",
    "print(Y_train.shape)\n",
    "print(Y_test.shape)"
   ]
  },
  {
   "cell_type": "code",
   "execution_count": 103,
   "metadata": {},
   "outputs": [],
   "source": [
    "minmax_scale = MinMaxScaler().fit(X_train)"
   ]
  },
  {
   "cell_type": "code",
   "execution_count": 106,
   "metadata": {},
   "outputs": [],
   "source": [
    "X_train = minmax_scale.transform(X_train)\n",
    "X_test = minmax_scale.transform(X_test)"
   ]
  },
  {
   "cell_type": "code",
   "execution_count": 111,
   "metadata": {},
   "outputs": [
    {
     "name": "stdout",
     "output_type": "stream",
     "text": [
      "0.8280297901150981\n",
      "[6 3 2 1 4 4 0 0 1 4 2 2 3 0 2 6 0 1 5 3 4 4 3 2 2 0 0 4 4 4 1 6 2 4 0 4 4\n",
      " 3 2 2 3 6 2 1 6 2 5 0 5 5 3 6 1 3 1 5 5 5 5 6 6 5 1 1 0 4 6 4 6 3 0 1 1 1\n",
      " 1 6 0 0 0 1 2 4 1 2 3 0 3 4 3 1 6 4 3 0 4 0 5 6 6 1 1 5 1 1 0 5 6 1 3 6 0\n",
      " 4 6 4 0 1 5 4 3 2 0 0 2 5 2 6 4 2 4 1 2 4 4 6 0 5 2 4 4 1 3 1 1 1 2 4 1 4\n",
      " 4 0 6 5 4 2 2 4 6 5 1 4 3 5 0 3 3 4 6 3 4 0 0 4 5 6 2 2 3 1 5 3 4 4 6 4 4\n",
      " 4 2 3 2 5 1 2 0 6 4 6 1 4 0 0 5 5 1 3 0 0 4 1 3 6 4 1 2 6 3 1 3 3 3 0 1 6\n",
      " 2 2 4 2 1 6 6 1 4 3 0 3 2 6 0 5 5 0 3 5 4 4 2 4 5 3 1 0 1 4 4 2 1 1 4 2 0\n",
      " 4 0 2 1 4 2 1 0 4 0 2 2 4 1 2 2 6 1 4 4 3 6 5 1 5 1 5 2 0 4 5 2 0 1 2 3 1\n",
      " 2 6 4 2 2 2 1 4 3 0 6 4 0 4 2 6 3 0 0 5 6 3 0 3 1 6 1 0 2 4 5 5 5 1 2 3 1\n",
      " 6 1 0 2 3 3 0 1 1 5 3 4 6 4 3 3 3 4 0 0 1 4 2 5 3 1 5 6 1 4 3 6 3 6 2 5 6\n",
      " 1 4 0 3 2 0 6 4 3 6 4 3 3 3 2 0 4 2 1 4 5 2 1 1 2 2 3 0 6 1 5 5 1 1 2 4 1\n",
      " 5 2 4 1 2 1 3 3 1 6 2 1 5 4 0 0 6 1 1 4 1 5 2 1 0 6 3 0 1 4 6 4 1 0 4 6 4\n",
      " 3 5 1 2 4 6 6 0 1 4 2 2 3 4 2 0 0 4 6 1 6 2 2 2 4 1 4 3 2 2 5 0 4 2 4 2 5\n",
      " 6 4 2 1 6 0 1 2 4 3 2 5 5 1 2 3 3 0 3 1 4 2 5 0 6 0 1 2 5 0 4 2 0 6 4 4 1\n",
      " 3 5 0 4 1 3 5 2 1 0 3 4 6 0 2 0 5 6 2 3 1 4 6 4 4 3 1 6 6 1 6 1 5 1 3 2 1\n",
      " 1 2 5 6 2 4 5 2 2 4 4 1 4 4 1 4 0 3 0 6 5 3 3 6 3 3 6 3 0 2 0 3 2 6 2 1 5\n",
      " 2 6 1 6 1 3 5 1 4 5 1 2 5 2 6 5 0 5 4 0 1 1 1 1 3 2 6 6 1 2 4 6 4 6 6 1 1\n",
      " 1 4 6 1 4]\n"
     ]
    }
   ],
   "source": [
    "model=DecisionTreeClassifier( )\n",
    "model.fit(X_train,Y_train)\n",
    "print(model.score(X_train,Y_train))\n",
    "print(model.predict(X_test))"
   ]
  },
  {
   "cell_type": "code",
   "execution_count": 143,
   "metadata": {},
   "outputs": [
    {
     "name": "stdout",
     "output_type": "stream",
     "text": [
      "0.8300609343263372\n"
     ]
    }
   ],
   "source": [
    "random_forest = RandomForestClassifier(n_estimators=100)\n",
    "random_forest.fit(X_train, Y_train)\n",
    "\n",
    "Y_prediction = random_forest.predict(X_test)\n",
    "\n",
    "print(random_forest.score(X_train, Y_train))\n",
    "acc_random_forest = round(random_forest.score(X_train, Y_train) * 100, 2)"
   ]
  },
  {
   "cell_type": "code",
   "execution_count": 149,
   "metadata": {},
   "outputs": [
    {
     "name": "stdout",
     "output_type": "stream",
     "text": [
      "train score 0.6946513202437373\n",
      "test score 0.5031545741324921\n"
     ]
    }
   ],
   "source": [
    "modelKNN_1 = KNeighborsClassifier(n_neighbors = 3)\n",
    "modelKNN_1.fit(X_train, Y_train)\n",
    "print('train score', modelKNN_1.score(X_train,Y_train))\n",
    "print('test score', modelKNN_1.score(X_test,Y_test))"
   ]
  },
  {
   "cell_type": "code",
   "execution_count": null,
   "metadata": {},
   "outputs": [],
   "source": []
  },
  {
   "cell_type": "code",
   "execution_count": 120,
   "metadata": {},
   "outputs": [],
   "source": [
    "#on tente le même modele mais avec le dataset du debut"
   ]
  },
  {
   "cell_type": "code",
   "execution_count": 133,
   "metadata": {},
   "outputs": [],
   "source": [
    "columns = df_cleaned.columns.tolist()\n",
    "columns.remove('NObeyesdad')\n",
    "columns.remove('Age_categories')\n",
    "x2 = df_cleaned[columns]\n",
    "y2 = df_cleaned['NObeyesdad']"
   ]
  },
  {
   "cell_type": "code",
   "execution_count": 134,
   "metadata": {},
   "outputs": [
    {
     "data": {
      "text/html": [
       "<div>\n",
       "<style scoped>\n",
       "    .dataframe tbody tr th:only-of-type {\n",
       "        vertical-align: middle;\n",
       "    }\n",
       "\n",
       "    .dataframe tbody tr th {\n",
       "        vertical-align: top;\n",
       "    }\n",
       "\n",
       "    .dataframe thead th {\n",
       "        text-align: right;\n",
       "    }\n",
       "</style>\n",
       "<table border=\"1\" class=\"dataframe\">\n",
       "  <thead>\n",
       "    <tr style=\"text-align: right;\">\n",
       "      <th></th>\n",
       "      <th>Gender</th>\n",
       "      <th>Age</th>\n",
       "      <th>Height</th>\n",
       "      <th>Weight</th>\n",
       "      <th>family_history_with_overweight</th>\n",
       "      <th>FAVC</th>\n",
       "      <th>FCVC</th>\n",
       "      <th>NCP</th>\n",
       "      <th>CAEC</th>\n",
       "      <th>SMOKE</th>\n",
       "      <th>CH2O</th>\n",
       "      <th>SCC</th>\n",
       "      <th>FAF</th>\n",
       "      <th>TUE</th>\n",
       "      <th>CALC</th>\n",
       "      <th>MTRANS</th>\n",
       "    </tr>\n",
       "  </thead>\n",
       "  <tbody>\n",
       "    <tr>\n",
       "      <th>0</th>\n",
       "      <td>0</td>\n",
       "      <td>21.000000</td>\n",
       "      <td>1.620000</td>\n",
       "      <td>64.000000</td>\n",
       "      <td>1</td>\n",
       "      <td>0</td>\n",
       "      <td>2.0</td>\n",
       "      <td>3.0</td>\n",
       "      <td>1</td>\n",
       "      <td>0</td>\n",
       "      <td>2.000000</td>\n",
       "      <td>0</td>\n",
       "      <td>0.000000</td>\n",
       "      <td>1.000000</td>\n",
       "      <td>0</td>\n",
       "      <td>3</td>\n",
       "    </tr>\n",
       "    <tr>\n",
       "      <th>1</th>\n",
       "      <td>0</td>\n",
       "      <td>21.000000</td>\n",
       "      <td>1.520000</td>\n",
       "      <td>56.000000</td>\n",
       "      <td>1</td>\n",
       "      <td>0</td>\n",
       "      <td>3.0</td>\n",
       "      <td>3.0</td>\n",
       "      <td>1</td>\n",
       "      <td>1</td>\n",
       "      <td>3.000000</td>\n",
       "      <td>1</td>\n",
       "      <td>3.000000</td>\n",
       "      <td>0.000000</td>\n",
       "      <td>1</td>\n",
       "      <td>3</td>\n",
       "    </tr>\n",
       "    <tr>\n",
       "      <th>2</th>\n",
       "      <td>1</td>\n",
       "      <td>23.000000</td>\n",
       "      <td>1.800000</td>\n",
       "      <td>77.000000</td>\n",
       "      <td>1</td>\n",
       "      <td>0</td>\n",
       "      <td>2.0</td>\n",
       "      <td>3.0</td>\n",
       "      <td>1</td>\n",
       "      <td>0</td>\n",
       "      <td>2.000000</td>\n",
       "      <td>0</td>\n",
       "      <td>2.000000</td>\n",
       "      <td>1.000000</td>\n",
       "      <td>2</td>\n",
       "      <td>3</td>\n",
       "    </tr>\n",
       "    <tr>\n",
       "      <th>3</th>\n",
       "      <td>1</td>\n",
       "      <td>27.000000</td>\n",
       "      <td>1.800000</td>\n",
       "      <td>87.000000</td>\n",
       "      <td>0</td>\n",
       "      <td>0</td>\n",
       "      <td>3.0</td>\n",
       "      <td>3.0</td>\n",
       "      <td>1</td>\n",
       "      <td>0</td>\n",
       "      <td>2.000000</td>\n",
       "      <td>0</td>\n",
       "      <td>2.000000</td>\n",
       "      <td>0.000000</td>\n",
       "      <td>2</td>\n",
       "      <td>4</td>\n",
       "    </tr>\n",
       "    <tr>\n",
       "      <th>4</th>\n",
       "      <td>1</td>\n",
       "      <td>22.000000</td>\n",
       "      <td>1.780000</td>\n",
       "      <td>89.800000</td>\n",
       "      <td>0</td>\n",
       "      <td>0</td>\n",
       "      <td>2.0</td>\n",
       "      <td>1.0</td>\n",
       "      <td>1</td>\n",
       "      <td>0</td>\n",
       "      <td>2.000000</td>\n",
       "      <td>0</td>\n",
       "      <td>0.000000</td>\n",
       "      <td>0.000000</td>\n",
       "      <td>1</td>\n",
       "      <td>3</td>\n",
       "    </tr>\n",
       "    <tr>\n",
       "      <th>...</th>\n",
       "      <td>...</td>\n",
       "      <td>...</td>\n",
       "      <td>...</td>\n",
       "      <td>...</td>\n",
       "      <td>...</td>\n",
       "      <td>...</td>\n",
       "      <td>...</td>\n",
       "      <td>...</td>\n",
       "      <td>...</td>\n",
       "      <td>...</td>\n",
       "      <td>...</td>\n",
       "      <td>...</td>\n",
       "      <td>...</td>\n",
       "      <td>...</td>\n",
       "      <td>...</td>\n",
       "      <td>...</td>\n",
       "    </tr>\n",
       "    <tr>\n",
       "      <th>2106</th>\n",
       "      <td>0</td>\n",
       "      <td>20.976842</td>\n",
       "      <td>1.710730</td>\n",
       "      <td>131.408528</td>\n",
       "      <td>1</td>\n",
       "      <td>1</td>\n",
       "      <td>3.0</td>\n",
       "      <td>3.0</td>\n",
       "      <td>1</td>\n",
       "      <td>0</td>\n",
       "      <td>1.728139</td>\n",
       "      <td>0</td>\n",
       "      <td>1.676269</td>\n",
       "      <td>0.906247</td>\n",
       "      <td>1</td>\n",
       "      <td>3</td>\n",
       "    </tr>\n",
       "    <tr>\n",
       "      <th>2107</th>\n",
       "      <td>0</td>\n",
       "      <td>21.982942</td>\n",
       "      <td>1.748584</td>\n",
       "      <td>133.742943</td>\n",
       "      <td>1</td>\n",
       "      <td>1</td>\n",
       "      <td>3.0</td>\n",
       "      <td>3.0</td>\n",
       "      <td>1</td>\n",
       "      <td>0</td>\n",
       "      <td>2.005130</td>\n",
       "      <td>0</td>\n",
       "      <td>1.341390</td>\n",
       "      <td>0.599270</td>\n",
       "      <td>1</td>\n",
       "      <td>3</td>\n",
       "    </tr>\n",
       "    <tr>\n",
       "      <th>2108</th>\n",
       "      <td>0</td>\n",
       "      <td>22.524036</td>\n",
       "      <td>1.752206</td>\n",
       "      <td>133.689352</td>\n",
       "      <td>1</td>\n",
       "      <td>1</td>\n",
       "      <td>3.0</td>\n",
       "      <td>3.0</td>\n",
       "      <td>1</td>\n",
       "      <td>0</td>\n",
       "      <td>2.054193</td>\n",
       "      <td>0</td>\n",
       "      <td>1.414209</td>\n",
       "      <td>0.646288</td>\n",
       "      <td>1</td>\n",
       "      <td>3</td>\n",
       "    </tr>\n",
       "    <tr>\n",
       "      <th>2109</th>\n",
       "      <td>0</td>\n",
       "      <td>24.361936</td>\n",
       "      <td>1.739450</td>\n",
       "      <td>133.346641</td>\n",
       "      <td>1</td>\n",
       "      <td>1</td>\n",
       "      <td>3.0</td>\n",
       "      <td>3.0</td>\n",
       "      <td>1</td>\n",
       "      <td>0</td>\n",
       "      <td>2.852339</td>\n",
       "      <td>0</td>\n",
       "      <td>1.139107</td>\n",
       "      <td>0.586035</td>\n",
       "      <td>1</td>\n",
       "      <td>3</td>\n",
       "    </tr>\n",
       "    <tr>\n",
       "      <th>2110</th>\n",
       "      <td>0</td>\n",
       "      <td>23.664709</td>\n",
       "      <td>1.738836</td>\n",
       "      <td>133.472641</td>\n",
       "      <td>1</td>\n",
       "      <td>1</td>\n",
       "      <td>3.0</td>\n",
       "      <td>3.0</td>\n",
       "      <td>1</td>\n",
       "      <td>0</td>\n",
       "      <td>2.863513</td>\n",
       "      <td>0</td>\n",
       "      <td>1.026452</td>\n",
       "      <td>0.714137</td>\n",
       "      <td>1</td>\n",
       "      <td>3</td>\n",
       "    </tr>\n",
       "  </tbody>\n",
       "</table>\n",
       "<p>2111 rows × 16 columns</p>\n",
       "</div>"
      ],
      "text/plain": [
       "      Gender        Age    Height      Weight  family_history_with_overweight  \\\n",
       "0          0  21.000000  1.620000   64.000000                               1   \n",
       "1          0  21.000000  1.520000   56.000000                               1   \n",
       "2          1  23.000000  1.800000   77.000000                               1   \n",
       "3          1  27.000000  1.800000   87.000000                               0   \n",
       "4          1  22.000000  1.780000   89.800000                               0   \n",
       "...      ...        ...       ...         ...                             ...   \n",
       "2106       0  20.976842  1.710730  131.408528                               1   \n",
       "2107       0  21.982942  1.748584  133.742943                               1   \n",
       "2108       0  22.524036  1.752206  133.689352                               1   \n",
       "2109       0  24.361936  1.739450  133.346641                               1   \n",
       "2110       0  23.664709  1.738836  133.472641                               1   \n",
       "\n",
       "      FAVC  FCVC  NCP  CAEC  SMOKE      CH2O  SCC       FAF       TUE  CALC  \\\n",
       "0        0   2.0  3.0     1      0  2.000000    0  0.000000  1.000000     0   \n",
       "1        0   3.0  3.0     1      1  3.000000    1  3.000000  0.000000     1   \n",
       "2        0   2.0  3.0     1      0  2.000000    0  2.000000  1.000000     2   \n",
       "3        0   3.0  3.0     1      0  2.000000    0  2.000000  0.000000     2   \n",
       "4        0   2.0  1.0     1      0  2.000000    0  0.000000  0.000000     1   \n",
       "...    ...   ...  ...   ...    ...       ...  ...       ...       ...   ...   \n",
       "2106     1   3.0  3.0     1      0  1.728139    0  1.676269  0.906247     1   \n",
       "2107     1   3.0  3.0     1      0  2.005130    0  1.341390  0.599270     1   \n",
       "2108     1   3.0  3.0     1      0  2.054193    0  1.414209  0.646288     1   \n",
       "2109     1   3.0  3.0     1      0  2.852339    0  1.139107  0.586035     1   \n",
       "2110     1   3.0  3.0     1      0  2.863513    0  1.026452  0.714137     1   \n",
       "\n",
       "      MTRANS  \n",
       "0          3  \n",
       "1          3  \n",
       "2          3  \n",
       "3          4  \n",
       "4          3  \n",
       "...      ...  \n",
       "2106       3  \n",
       "2107       3  \n",
       "2108       3  \n",
       "2109       3  \n",
       "2110       3  \n",
       "\n",
       "[2111 rows x 16 columns]"
      ]
     },
     "execution_count": 134,
     "metadata": {},
     "output_type": "execute_result"
    }
   ],
   "source": [
    "x2"
   ]
  },
  {
   "cell_type": "code",
   "execution_count": 135,
   "metadata": {},
   "outputs": [],
   "source": [
    "X2_train, X2_test,Y2_train,Y2_test=train_test_split(x2, y2, test_size= 0.3)"
   ]
  },
  {
   "cell_type": "code",
   "execution_count": 136,
   "metadata": {},
   "outputs": [],
   "source": [
    "minmax_scale_2 = MinMaxScaler().fit(X2_train)"
   ]
  },
  {
   "cell_type": "code",
   "execution_count": 138,
   "metadata": {},
   "outputs": [],
   "source": [
    "X2_train = minmax_scale_2.transform(X2_train)\n",
    "X2_test = minmax_scale_2.transform(X2_test)"
   ]
  },
  {
   "cell_type": "code",
   "execution_count": 139,
   "metadata": {},
   "outputs": [
    {
     "name": "stdout",
     "output_type": "stream",
     "text": [
      "1.0\n",
      "[2 5 3 6 6 0 6 4 6 5 5 4 4 1 1 3 0 6 1 4 4 2 3 2 3 0 3 4 5 2 5 5 4 4 5 2 0\n",
      " 4 1 5 4 6 2 5 2 0 6 3 6 1 6 6 1 2 6 5 2 2 2 1 6 4 4 0 3 0 1 6 3 4 0 5 3 1\n",
      " 0 1 6 1 6 5 6 3 6 4 5 3 5 6 2 3 3 5 5 2 4 2 2 2 0 5 3 3 0 5 4 6 5 1 6 2 3\n",
      " 5 1 4 2 4 3 5 6 5 1 5 3 4 0 6 3 0 0 6 3 6 0 0 6 0 2 1 4 2 6 4 2 4 0 1 5 3\n",
      " 3 0 6 1 2 1 0 0 0 2 6 4 0 4 6 4 1 2 5 0 5 3 5 5 4 4 3 2 4 6 2 1 2 3 0 2 3\n",
      " 0 0 2 1 5 6 2 0 4 0 2 3 2 0 5 1 0 4 6 5 5 1 3 5 4 1 5 3 4 3 0 5 4 3 2 2 5\n",
      " 3 3 4 5 1 3 2 6 3 1 0 0 6 2 3 5 3 4 6 6 2 5 2 3 1 6 6 1 1 2 3 0 4 4 3 3 2\n",
      " 4 1 4 0 2 1 1 2 6 6 5 3 6 6 3 3 2 4 6 6 0 5 3 6 2 1 2 5 2 5 3 2 0 1 2 5 3\n",
      " 0 3 0 1 6 0 6 4 1 0 1 2 6 5 5 0 5 3 1 2 4 5 2 1 3 6 6 4 5 2 3 6 3 6 2 3 3\n",
      " 4 5 0 6 6 2 1 2 1 2 2 4 1 4 6 5 3 2 6 5 1 1 2 4 5 3 0 1 3 5 5 6 2 6 5 6 6\n",
      " 2 4 5 1 5 2 5 0 3 5 5 0 2 1 2 6 6 3 4 5 1 1 2 2 4 6 5 0 2 5 5 1 0 5 5 2 0\n",
      " 2 0 6 4 2 6 5 6 5 4 5 6 4 3 4 2 3 4 3 3 6 6 1 6 3 0 5 1 4 1 1 4 2 2 2 2 4\n",
      " 3 3 4 5 0 2 2 0 6 2 4 4 0 2 4 0 4 5 2 3 4 4 4 2 0 4 4 0 2 6 0 1 0 6 5 2 1\n",
      " 1 0 6 4 4 5 4 5 0 1 4 0 5 6 4 0 5 2 1 5 5 4 2 3 4 5 4 5 6 1 1 1 1 2 1 5 1\n",
      " 0 4 4 2 6 3 4 1 2 0 4 3 5 5 3 6 3 0 4 3 3 0 3 4 3 4 2 2 2 2 6 5 0 0 5 2 4\n",
      " 2 5 5 1 3 2 2 4 2 2 0 5 5 6 1 3 1 1 6 0 3 4 3 3 2 5 0 4 3 5 4 5 3 4 2 5 2\n",
      " 4 3 0 0 1 6 1 3 4 2 0 3 2 2 2 2 0 5 0 4 5 1 6 0 3 4 6 6 5 3 4 2 1 3 2 2 5\n",
      " 4 4 5 3 5]\n"
     ]
    }
   ],
   "source": [
    "model2=DecisionTreeClassifier( )\n",
    "model2.fit(X2_train,Y2_train)\n",
    "print(model2.score(X2_train,Y2_train))\n",
    "print(model2.predict(X2_test))"
   ]
  },
  {
   "cell_type": "code",
   "execution_count": 142,
   "metadata": {},
   "outputs": [
    {
     "name": "stdout",
     "output_type": "stream",
     "text": [
      "train score 0.8490182802979012\n",
      "test score 0.749211356466877\n"
     ]
    }
   ],
   "source": [
    "modelKNN = KNeighborsClassifier(n_neighbors = 3)\n",
    "modelKNN.fit(X2_train, Y2_train)\n",
    "print('train score', modelKNN.score(X2_train,Y2_train))\n",
    "print('test score', modelKNN.score(X2_test,Y2_test))"
   ]
  },
  {
   "cell_type": "code",
   "execution_count": 157,
   "metadata": {},
   "outputs": [],
   "source": [
    "#en faisant la même chose avec le data_complet (que les variables qui nous interessent)"
   ]
  },
  {
   "cell_type": "code",
   "execution_count": 181,
   "metadata": {},
   "outputs": [],
   "source": [
    "x_complet= df_cleaned[[\"Age\",\"family_history_with_overweight\",\"CALC\",\"CAEC\"]] #have to try with weight and height\n",
    "y_complet= data_complet[target]\n",
    "X_train_complet, X_test_complet,Y_train_complet,Y_test_complet=train_test_split(x_complet, y_complet, test_size= 0.3)"
   ]
  },
  {
   "cell_type": "code",
   "execution_count": 182,
   "metadata": {},
   "outputs": [],
   "source": [
    "minmax_scale_complet = MinMaxScaler().fit(X_train_complet)"
   ]
  },
  {
   "cell_type": "code",
   "execution_count": 183,
   "metadata": {},
   "outputs": [
    {
     "name": "stdout",
     "output_type": "stream",
     "text": [
      "0.9187542315504401\n",
      "[2 1 3 5 0 6 3 4 6 3 0 0 0 5 0 5 6 0 3 1 4 0 6 0 2 2 0 6 3 5 6 5 3 6 5 4 1\n",
      " 1 0 6 1 4 2 2 4 4 0 4 1 3 4 4 2 2 1 5 2 3 0 0 5 4 1 1 1 4 6 1 2 0 0 0 5 3\n",
      " 3 0 6 2 5 3 5 0 5 1 4 2 1 2 1 0 2 0 0 2 4 3 0 1 4 1 0 2 4 4 3 1 4 4 6 4 4\n",
      " 5 2 0 5 1 6 3 5 2 1 6 2 1 6 4 5 4 3 6 3 2 3 3 0 3 2 6 4 0 5 5 2 6 5 0 1 6\n",
      " 2 0 6 4 3 2 1 2 4 1 2 2 2 3 2 3 2 4 2 2 6 4 4 6 4 4 0 2 2 3 4 0 3 5 2 4 4\n",
      " 2 1 3 6 4 5 4 2 0 4 4 0 0 3 6 4 5 1 4 1 4 1 6 1 6 1 6 2 1 1 4 5 3 0 5 0 5\n",
      " 2 6 5 5 4 5 0 2 1 3 3 2 6 4 4 1 3 0 3 1 2 1 2 5 6 4 4 3 4 1 4 0 4 0 1 1 1\n",
      " 2 0 6 2 0 1 5 4 5 4 5 4 2 6 3 6 5 3 6 3 4 6 5 1 6 6 0 0 5 3 5 3 3 6 5 0 2\n",
      " 5 6 6 0 0 4 1 1 1 2 3 5 1 0 1 3 6 4 1 2 4 2 1 3 2 4 3 2 6 3 6 3 5 4 0 1 0\n",
      " 2 2 3 2 6 0 2 6 6 6 4 0 1 4 0 0 4 5 1 0 3 2 2 4 2 6 3 0 6 0 2 6 4 3 5 0 4\n",
      " 0 6 3 4 1 2 3 0 5 3 6 4 0 5 0 1 1 0 6 6 4 5 3 0 6 3 5 5 4 1 2 6 4 6 1 1 5\n",
      " 4 3 4 5 1 0 2 5 6 4 6 6 2 2 2 3 3 0 2 1 5 6 5 3 1 3 3 6 2 2 0 2 6 1 6 1 2\n",
      " 4 4 3 2 0 3 4 1 0 1 1 4 4 2 5 1 3 0 5 1 1 1 4 2 2 3 4 4 6 4 1 0 2 1 6 6 6\n",
      " 4 0 4 3 1 4 6 4 6 1 6 4 0 6 4 6 0 3 5 6 3 1 6 0 3 0 4 1 5 1 6 3 2 3 2 2 5\n",
      " 1 4 5 1 6 5 2 6 2 5 2 0 1 0 6 1 3 5 0 2 3 3 5 3 2 2 5 2 0 1 5 6 4 6 5 5 3\n",
      " 2 0 2 3 3 0 1 2 2 2 0 0 4 4 3 1 1 6 0 4 2 2 6 3 6 3 0 5 3 5 1 3 5 4 1 6 5\n",
      " 1 6 6 0 0 6 6 6 4 2 3 5 1 3 2 3 4 3 2 2 6 2 6 6 1 3 1 6 2 3 3 4 5 4 0 6 4\n",
      " 2 0 4 3 1]\n"
     ]
    }
   ],
   "source": [
    "X_train_complet = minmax_scale_complet.transform(X_train_complet)\n",
    "X_test_complet = minmax_scale_complet.transform(X_test_complet)\n",
    "model_DTC_complet=DecisionTreeClassifier( )\n",
    "model_DTC_complet.fit(X_train_complet,Y_train_complet)\n",
    "print(model_DTC_complet.score(X_train_complet,Y_train_complet))\n",
    "print(model_DTC_complet.predict(X_test_complet))"
   ]
  },
  {
   "cell_type": "code",
   "execution_count": 184,
   "metadata": {},
   "outputs": [
    {
     "name": "stdout",
     "output_type": "stream",
     "text": [
      "train score 0.7041299932295193\n",
      "test score 0.5220820189274448\n"
     ]
    }
   ],
   "source": [
    "modelKNN = KNeighborsClassifier(n_neighbors = 3)\n",
    "modelKNN.fit(X_train_complet, Y_train_complet)\n",
    "print('train score', modelKNN.score(X_train_complet,Y_train_complet))\n",
    "print('test score', modelKNN.score(X_test_complet,Y_test_complet))"
   ]
  },
  {
   "cell_type": "code",
   "execution_count": 185,
   "metadata": {},
   "outputs": [
    {
     "name": "stdout",
     "output_type": "stream",
     "text": [
      "0.9187542315504401\n"
     ]
    }
   ],
   "source": [
    "random_forest_complet = RandomForestClassifier(n_estimators=100)\n",
    "random_forest_complet.fit(X_train_complet, Y_train_complet)\n",
    "\n",
    "Y_prediction_RF_complet = random_forest_complet.predict(X_test_complet)\n",
    "\n",
    "print(random_forest_complet.score(X_train_complet, Y_train_complet))\n",
    "acc_random_forest_comp = round(random_forest_complet.score(X_train_complet, Y_train_complet) * 100, 2)"
   ]
  },
  {
   "cell_type": "code",
   "execution_count": 1,
   "metadata": {},
   "outputs": [
    {
     "ename": "NameError",
     "evalue": "name 'df_cleaned' is not defined",
     "output_type": "error",
     "traceback": [
      "\u001b[1;31m---------------------------------------------------------------------------\u001b[0m",
      "\u001b[1;31mNameError\u001b[0m                                 Traceback (most recent call last)",
      "\u001b[1;32m<ipython-input-1-b9302aa7e2ec>\u001b[0m in \u001b[0;36m<module>\u001b[1;34m\u001b[0m\n\u001b[1;32m----> 1\u001b[1;33m \u001b[0mdf_cleaned\u001b[0m\u001b[1;33m.\u001b[0m\u001b[0mcolumns\u001b[0m\u001b[1;33m\u001b[0m\u001b[1;33m\u001b[0m\u001b[0m\n\u001b[0m",
      "\u001b[1;31mNameError\u001b[0m: name 'df_cleaned' is not defined"
     ]
    }
   ],
   "source": [
    "df_cleaned.columns"
   ]
  },
  {
   "cell_type": "code",
   "execution_count": null,
   "metadata": {},
   "outputs": [],
   "source": []
  }
 ],
 "metadata": {
  "kernelspec": {
   "display_name": "Python 3",
   "language": "python",
   "name": "python3"
  },
  "language_info": {
   "codemirror_mode": {
    "name": "ipython",
    "version": 3
   },
   "file_extension": ".py",
   "mimetype": "text/x-python",
   "name": "python",
   "nbconvert_exporter": "python",
   "pygments_lexer": "ipython3",
   "version": "3.8.5"
  }
 },
 "nbformat": 4,
 "nbformat_minor": 4
}
